{
 "cells": [
  {
   "cell_type": "code",
   "execution_count": 1,
   "id": "25ab622e",
   "metadata": {},
   "outputs": [],
   "source": [
    "import torch.nn as nn\n",
    "import torch"
   ]
  },
  {
   "cell_type": "code",
   "execution_count": 2,
   "id": "1bfd88a2",
   "metadata": {},
   "outputs": [],
   "source": [
    "class DilatedBlock(nn.Module):\n",
    "    def __init__(self, in_channels, out_channels, stride=1, dilation=2):\n",
    "        super(DilatedBlock, self).__init__()\n",
    "        \n",
    "        self.conv1 = nn.Conv2d(in_channels, out_channels, kernel_size=5, stride=stride, padding=dilation, dilation=dilation, bias=False)\n",
    "        self.bn1 = nn.BatchNorm2d(out_channels)\n",
    "        self.tanh = nn.Tanh()\n",
    "        \n",
    "        self.conv2 = nn.Conv2d(out_channels, out_channels, kernel_size=5, padding=dilation, dilation=dilation, bias=False)\n",
    "        self.bn2 = nn.GroupNorm(32, out_channels)  \n",
    "        \n",
    "        self.skip = nn.Sequential()\n",
    "        if stride != 1 or in_channels != out_channels:\n",
    "            self.skip = nn.Sequential(\n",
    "                nn.Conv2d(in_channels, out_channels, kernel_size=1, stride=stride, bias=False),\n",
    "                nn.BatchNorm2d(out_channels)\n",
    "            )\n",
    "            \n",
    "    def forward(self, x):\n",
    "        out = self.tanh(self.bn1(self.conv1(x)))\n",
    "        out = self.bn2(self.conv2(out))\n",
    "        out += self.skip(x)\n",
    "        out = self.tanh(out)\n",
    "        return out"
   ]
  },
  {
   "cell_type": "code",
   "execution_count": 3,
   "id": "5636042c",
   "metadata": {},
   "outputs": [],
   "source": [
    "class ModifiedResNet(nn.Module):\n",
    "    def __init__(self, num_classes=1000):\n",
    "        super(ModifiedResNet, self).__init__()\n",
    "        \n",
    "        self.layer1 = nn.Conv2d(3, 128, kernel_size=7, stride=2, padding=3)\n",
    "        self.layer2 = DilatedBlock(128, 256)\n",
    "        self.layer3 = DilatedBlock(256, 512, stride=2, dilation=2)\n",
    "        self.layer4 = DilatedBlock(512, 512, stride=1, dilation=4)\n",
    "        self.layer5 = DilatedBlock(512, 1024, stride=1, dilation=4)\n",
    "        \n",
    "        self.globalpool = nn.AdaptiveAvgPool2d((1, 1))\n",
    "        self.fc = nn.Linear(1024, num_classes)\n",
    "        \n",
    "    def forward(self, x):\n",
    "        x = self.layer1(x)\n",
    "        x = self.layer2(x)\n",
    "        x = self.layer3(x)\n",
    "        x = self.layer4(x)\n",
    "        x = self.layer5(x)\n",
    "        x = self.globalpool(x)\n",
    "        x = x.view(x.size(0), -1)\n",
    "        x = self.fc(x)\n",
    "        return x"
   ]
  },
  {
   "cell_type": "code",
   "execution_count": 4,
   "id": "0ca33ac0",
   "metadata": {},
   "outputs": [
    {
     "name": "stdout",
     "output_type": "stream",
     "text": [
      "ModifiedResNet(\n",
      "  (layer1): Conv2d(3, 128, kernel_size=(7, 7), stride=(2, 2), padding=(3, 3))\n",
      "  (layer2): DilatedBlock(\n",
      "    (conv1): Conv2d(128, 256, kernel_size=(5, 5), stride=(1, 1), padding=(2, 2), dilation=(2, 2), bias=False)\n",
      "    (bn1): BatchNorm2d(256, eps=1e-05, momentum=0.1, affine=True, track_running_stats=True)\n",
      "    (tanh): Tanh()\n",
      "    (conv2): Conv2d(256, 256, kernel_size=(5, 5), stride=(1, 1), padding=(2, 2), dilation=(2, 2), bias=False)\n",
      "    (bn2): GroupNorm(32, 256, eps=1e-05, affine=True)\n",
      "    (skip): Sequential(\n",
      "      (0): Conv2d(128, 256, kernel_size=(1, 1), stride=(1, 1), bias=False)\n",
      "      (1): BatchNorm2d(256, eps=1e-05, momentum=0.1, affine=True, track_running_stats=True)\n",
      "    )\n",
      "  )\n",
      "  (layer3): DilatedBlock(\n",
      "    (conv1): Conv2d(256, 512, kernel_size=(5, 5), stride=(2, 2), padding=(2, 2), dilation=(2, 2), bias=False)\n",
      "    (bn1): BatchNorm2d(512, eps=1e-05, momentum=0.1, affine=True, track_running_stats=True)\n",
      "    (tanh): Tanh()\n",
      "    (conv2): Conv2d(512, 512, kernel_size=(5, 5), stride=(1, 1), padding=(2, 2), dilation=(2, 2), bias=False)\n",
      "    (bn2): GroupNorm(32, 512, eps=1e-05, affine=True)\n",
      "    (skip): Sequential(\n",
      "      (0): Conv2d(256, 512, kernel_size=(1, 1), stride=(2, 2), bias=False)\n",
      "      (1): BatchNorm2d(512, eps=1e-05, momentum=0.1, affine=True, track_running_stats=True)\n",
      "    )\n",
      "  )\n",
      "  (layer4): DilatedBlock(\n",
      "    (conv1): Conv2d(512, 512, kernel_size=(5, 5), stride=(1, 1), padding=(4, 4), dilation=(4, 4), bias=False)\n",
      "    (bn1): BatchNorm2d(512, eps=1e-05, momentum=0.1, affine=True, track_running_stats=True)\n",
      "    (tanh): Tanh()\n",
      "    (conv2): Conv2d(512, 512, kernel_size=(5, 5), stride=(1, 1), padding=(4, 4), dilation=(4, 4), bias=False)\n",
      "    (bn2): GroupNorm(32, 512, eps=1e-05, affine=True)\n",
      "    (skip): Sequential()\n",
      "  )\n",
      "  (layer5): DilatedBlock(\n",
      "    (conv1): Conv2d(512, 1024, kernel_size=(5, 5), stride=(1, 1), padding=(4, 4), dilation=(4, 4), bias=False)\n",
      "    (bn1): BatchNorm2d(1024, eps=1e-05, momentum=0.1, affine=True, track_running_stats=True)\n",
      "    (tanh): Tanh()\n",
      "    (conv2): Conv2d(1024, 1024, kernel_size=(5, 5), stride=(1, 1), padding=(4, 4), dilation=(4, 4), bias=False)\n",
      "    (bn2): GroupNorm(32, 1024, eps=1e-05, affine=True)\n",
      "    (skip): Sequential(\n",
      "      (0): Conv2d(512, 1024, kernel_size=(1, 1), stride=(1, 1), bias=False)\n",
      "      (1): BatchNorm2d(1024, eps=1e-05, momentum=0.1, affine=True, track_running_stats=True)\n",
      "    )\n",
      "  )\n",
      "  (globalpool): AdaptiveAvgPool2d(output_size=(1, 1))\n",
      "  (fc): Linear(in_features=1024, out_features=1000, bias=True)\n",
      ")\n"
     ]
    }
   ],
   "source": [
    "model = ModifiedResNet()\n",
    "print(model)\n",
    "scripted_model = torch.jit.script(model)\n",
    "scripted_model.save(\"model_Modified_ResNet_scripted.pt\")"
   ]
  },
  {
   "cell_type": "code",
   "execution_count": null,
   "id": "1331d9e4",
   "metadata": {},
   "outputs": [],
   "source": []
  }
 ],
 "metadata": {
  "kernelspec": {
   "display_name": "Python 3",
   "language": "python",
   "name": "python3"
  },
  "language_info": {
   "codemirror_mode": {
    "name": "ipython",
    "version": 3
   },
   "file_extension": ".py",
   "mimetype": "text/x-python",
   "name": "python",
   "nbconvert_exporter": "python",
   "pygments_lexer": "ipython3",
   "version": "3.7.6"
  }
 },
 "nbformat": 4,
 "nbformat_minor": 5
}
