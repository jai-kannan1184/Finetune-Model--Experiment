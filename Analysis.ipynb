{
 "cells": [
  {
   "cell_type": "code",
   "execution_count": 1,
   "id": "75dae1dd",
   "metadata": {},
   "outputs": [],
   "source": [
    "import pandas as pd"
   ]
  },
  {
   "cell_type": "code",
   "execution_count": 2,
   "id": "747f63e5",
   "metadata": {},
   "outputs": [],
   "source": [
    "cnn_df_cot = pd.read_csv('prompt_results_cot/fine_tuning_results_cnn.csv')\n",
    "cnn_df_ifc = pd.read_csv('results_ifc/training_cnn.csv')\n",
    "cnn_df_context = pd.read_csv('results_with_context_new/training_cnn.csv')"
   ]
  },
  {
   "cell_type": "code",
   "execution_count": 3,
   "id": "c5bcd9e8",
   "metadata": {},
   "outputs": [
    {
     "data": {
      "text/html": [
       "<div>\n",
       "<style scoped>\n",
       "    .dataframe tbody tr th:only-of-type {\n",
       "        vertical-align: middle;\n",
       "    }\n",
       "\n",
       "    .dataframe tbody tr th {\n",
       "        vertical-align: top;\n",
       "    }\n",
       "\n",
       "    .dataframe thead th {\n",
       "        text-align: right;\n",
       "    }\n",
       "</style>\n",
       "<table border=\"1\" class=\"dataframe\">\n",
       "  <thead>\n",
       "    <tr style=\"text-align: right;\">\n",
       "      <th></th>\n",
       "      <th>Learning Rate</th>\n",
       "      <th>Momentum</th>\n",
       "      <th>Batch Size</th>\n",
       "      <th>Num Epochs</th>\n",
       "      <th>Optimizer</th>\n",
       "      <th>Loss Function</th>\n",
       "      <th>Scheduler</th>\n",
       "      <th>Step Size</th>\n",
       "      <th>Gamma</th>\n",
       "    </tr>\n",
       "  </thead>\n",
       "  <tbody>\n",
       "    <tr>\n",
       "      <th>0</th>\n",
       "      <td>0.010</td>\n",
       "      <td>0.9</td>\n",
       "      <td>256</td>\n",
       "      <td>100</td>\n",
       "      <td>SGD</td>\n",
       "      <td>CrossEntropyLoss</td>\n",
       "      <td>StepLR</td>\n",
       "      <td>30</td>\n",
       "      <td>0.1</td>\n",
       "    </tr>\n",
       "    <tr>\n",
       "      <th>1</th>\n",
       "      <td>0.010</td>\n",
       "      <td>0.9</td>\n",
       "      <td>256</td>\n",
       "      <td>100</td>\n",
       "      <td>SGD</td>\n",
       "      <td>CrossEntropyLoss</td>\n",
       "      <td>StepLR</td>\n",
       "      <td>30</td>\n",
       "      <td>0.1</td>\n",
       "    </tr>\n",
       "    <tr>\n",
       "      <th>2</th>\n",
       "      <td>0.001</td>\n",
       "      <td>0.9</td>\n",
       "      <td>64</td>\n",
       "      <td>100</td>\n",
       "      <td>SGD</td>\n",
       "      <td>CrossEntropyLoss</td>\n",
       "      <td>StepLR</td>\n",
       "      <td>30</td>\n",
       "      <td>0.1</td>\n",
       "    </tr>\n",
       "    <tr>\n",
       "      <th>3</th>\n",
       "      <td>0.001</td>\n",
       "      <td>0.9</td>\n",
       "      <td>128</td>\n",
       "      <td>100</td>\n",
       "      <td>SGD</td>\n",
       "      <td>CrossEntropyLoss</td>\n",
       "      <td>StepLR</td>\n",
       "      <td>30</td>\n",
       "      <td>0.1</td>\n",
       "    </tr>\n",
       "    <tr>\n",
       "      <th>4</th>\n",
       "      <td>0.010</td>\n",
       "      <td>0.9</td>\n",
       "      <td>256</td>\n",
       "      <td>100</td>\n",
       "      <td>SGD</td>\n",
       "      <td>CrossEntropyLoss</td>\n",
       "      <td>StepLR</td>\n",
       "      <td>30</td>\n",
       "      <td>0.1</td>\n",
       "    </tr>\n",
       "  </tbody>\n",
       "</table>\n",
       "</div>"
      ],
      "text/plain": [
       "   Learning Rate  Momentum  Batch Size  Num Epochs Optimizer  \\\n",
       "0          0.010       0.9         256         100       SGD   \n",
       "1          0.010       0.9         256         100       SGD   \n",
       "2          0.001       0.9          64         100       SGD   \n",
       "3          0.001       0.9         128         100       SGD   \n",
       "4          0.010       0.9         256         100       SGD   \n",
       "\n",
       "      Loss Function Scheduler  Step Size  Gamma  \n",
       "0  CrossEntropyLoss    StepLR         30    0.1  \n",
       "1  CrossEntropyLoss    StepLR         30    0.1  \n",
       "2  CrossEntropyLoss    StepLR         30    0.1  \n",
       "3  CrossEntropyLoss    StepLR         30    0.1  \n",
       "4  CrossEntropyLoss    StepLR         30    0.1  "
      ]
     },
     "execution_count": 3,
     "metadata": {},
     "output_type": "execute_result"
    }
   ],
   "source": [
    "cnn_df_context.head()"
   ]
  },
  {
   "cell_type": "code",
   "execution_count": 4,
   "id": "f0923621",
   "metadata": {},
   "outputs": [],
   "source": [
    "column_name = \"Learning Rate\""
   ]
  },
  {
   "cell_type": "code",
   "execution_count": 5,
   "id": "e585e553",
   "metadata": {},
   "outputs": [],
   "source": [
    "mean_cot = cnn_df_cot[column_name].mean()\n",
    "std_cot = cnn_df_cot[column_name].std()\n",
    "\n",
    "mean_ifc = cnn_df_ifc[column_name].mean()\n",
    "std_ifc = cnn_df_ifc[column_name].std()\n",
    "\n",
    "mean_context = cnn_df_context[column_name].mean()\n",
    "std_context = cnn_df_context[column_name].std()\n"
   ]
  },
  {
   "cell_type": "code",
   "execution_count": 6,
   "id": "e58ca770",
   "metadata": {},
   "outputs": [
    {
     "name": "stdout",
     "output_type": "stream",
     "text": [
      "Statistics for Learning Rate:\n",
      "\n",
      "cnn_df_cot:\n",
      "Mean: 0.009999999999999998\n",
      "Std: 1.828559098217032e-18\n",
      "\n",
      "cnn_df_ifc:\n",
      "Mean: 0.0010000000000000002\n",
      "Std: 2.28569887277129e-19\n",
      "\n",
      "cnn_df_context:\n",
      "Mean: 0.0037000000000000006\n",
      "Std: 0.004347413023856831\n"
     ]
    }
   ],
   "source": [
    "print(f\"Statistics for {column_name}:\")\n",
    "\n",
    "print(\"\\ncnn_df_cot:\")\n",
    "print(f\"Mean: {mean_cot}\")\n",
    "print(f\"Std: {std_cot}\")\n",
    "\n",
    "print(\"\\ncnn_df_ifc:\")\n",
    "print(f\"Mean: {mean_ifc}\")\n",
    "print(f\"Std: {std_ifc}\")\n",
    "\n",
    "print(\"\\ncnn_df_context:\")\n",
    "print(f\"Mean: {mean_context}\")\n",
    "print(f\"Std: {std_context}\")"
   ]
  },
  {
   "cell_type": "code",
   "execution_count": 9,
   "id": "00bd5cc3",
   "metadata": {},
   "outputs": [],
   "source": [
    "column_name = \"Batch Size\""
   ]
  },
  {
   "cell_type": "code",
   "execution_count": 10,
   "id": "4c8631b5",
   "metadata": {},
   "outputs": [],
   "source": [
    "mean_cot = cnn_df_cot[column_name].mean()\n",
    "std_cot = cnn_df_cot[column_name].std()\n",
    "\n",
    "mean_ifc = cnn_df_ifc[column_name].mean()\n",
    "std_ifc = cnn_df_ifc[column_name].std()\n",
    "\n",
    "mean_context = cnn_df_context[column_name].mean()\n",
    "std_context = cnn_df_context[column_name].std()"
   ]
  },
  {
   "cell_type": "code",
   "execution_count": 11,
   "id": "78e70a8b",
   "metadata": {},
   "outputs": [
    {
     "name": "stdout",
     "output_type": "stream",
     "text": [
      "Statistics for Batch Size:\n",
      "\n",
      "cnn_df_cot:\n",
      "Mean: 83.2\n",
      "Std: 60.71573107523289\n",
      "\n",
      "cnn_df_ifc:\n",
      "Mean: 128.0\n",
      "Std: 0.0\n",
      "\n",
      "cnn_df_context:\n",
      "Mean: 128.0\n",
      "Std: 90.50966799187809\n"
     ]
    }
   ],
   "source": [
    "print(f\"Statistics for {column_name}:\")\n",
    "\n",
    "print(\"\\ncnn_df_cot:\")\n",
    "print(f\"Mean: {mean_cot}\")\n",
    "print(f\"Std: {std_cot}\")\n",
    "\n",
    "print(\"\\ncnn_df_ifc:\")\n",
    "print(f\"Mean: {mean_ifc}\")\n",
    "print(f\"Std: {std_ifc}\")\n",
    "\n",
    "print(\"\\ncnn_df_context:\")\n",
    "print(f\"Mean: {mean_context}\")\n",
    "print(f\"Std: {std_context}\")"
   ]
  },
  {
   "cell_type": "code",
   "execution_count": 12,
   "id": "a7060fc8",
   "metadata": {},
   "outputs": [],
   "source": [
    "mlp_df_cot = pd.read_csv('prompt_results_cot/fine_tuning_results_mlp.csv')\n",
    "mlp_df_ifc = pd.read_csv('results_ifc/training_mlp.csv')\n",
    "mlp_df_context = pd.read_csv('results_with_context_new/training_mlp.csv')"
   ]
  },
  {
   "cell_type": "code",
   "execution_count": 13,
   "id": "7065724c",
   "metadata": {},
   "outputs": [],
   "source": [
    "column_name = \"Learning Rate\""
   ]
  },
  {
   "cell_type": "code",
   "execution_count": 16,
   "id": "b37a05d4",
   "metadata": {},
   "outputs": [],
   "source": [
    "mean_cot = mlp_df_cot[column_name].mean()\n",
    "std_cot = mlp_df_cot[column_name].std()\n",
    "\n",
    "mean_ifc = mlp_df_ifc[column_name].mean()\n",
    "std_ifc = mlp_df_ifc[column_name].std()\n",
    "\n",
    "mean_context = mlp_df_context[column_name].mean()\n",
    "std_context = mlp_df_context[column_name].std()\n"
   ]
  },
  {
   "cell_type": "code",
   "execution_count": 17,
   "id": "d1ebd12f",
   "metadata": {},
   "outputs": [
    {
     "name": "stdout",
     "output_type": "stream",
     "text": [
      "Statistics for Learning Rate:\n",
      "\n",
      "cnn_df_cot:\n",
      "Mean: 0.0010000000000000002\n",
      "Std: 2.28569887277129e-19\n",
      "\n",
      "cnn_df_ifc:\n",
      "Mean: 0.0010000000000000002\n",
      "Std: 2.28569887277129e-19\n",
      "\n",
      "cnn_df_context:\n",
      "Mean: 0.0064\n",
      "Std: 0.0046475800154489\n"
     ]
    }
   ],
   "source": [
    "print(f\"Statistics for {column_name}:\")\n",
    "\n",
    "print(\"\\ncnn_df_cot:\")\n",
    "print(f\"Mean: {mean_cot}\")\n",
    "print(f\"Std: {std_cot}\")\n",
    "\n",
    "print(\"\\ncnn_df_ifc:\")\n",
    "print(f\"Mean: {mean_ifc}\")\n",
    "print(f\"Std: {std_ifc}\")\n",
    "\n",
    "print(\"\\ncnn_df_context:\")\n",
    "print(f\"Mean: {mean_context}\")\n",
    "print(f\"Std: {std_context}\")"
   ]
  },
  {
   "cell_type": "code",
   "execution_count": null,
   "id": "3ff69aa2",
   "metadata": {},
   "outputs": [],
   "source": []
  }
 ],
 "metadata": {
  "kernelspec": {
   "display_name": "Python 3",
   "language": "python",
   "name": "python3"
  },
  "language_info": {
   "codemirror_mode": {
    "name": "ipython",
    "version": 3
   },
   "file_extension": ".py",
   "mimetype": "text/x-python",
   "name": "python",
   "nbconvert_exporter": "python",
   "pygments_lexer": "ipython3",
   "version": "3.7.6"
  }
 },
 "nbformat": 4,
 "nbformat_minor": 5
}
