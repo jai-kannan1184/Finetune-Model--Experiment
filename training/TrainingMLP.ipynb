{
 "cells": [
  {
   "cell_type": "code",
   "execution_count": 1,
   "id": "db5025de",
   "metadata": {},
   "outputs": [],
   "source": [
    "import os\n",
    "import torch\n",
    "import torchvision\n",
    "import torchvision.transforms as transforms\n",
    "from torch.utils.data import DataLoader\n",
    "from torchvision.datasets import ImageFolder\n",
    "import pandas as pd\n",
    "import torch.nn as nn\n",
    "import torch.optim as optim\n",
    "from tqdm import tqdm\n",
    "from PIL import Image\n",
    "import matplotlib.pyplot as plt\n",
    "import numpy as np"
   ]
  },
  {
   "cell_type": "code",
   "execution_count": 2,
   "id": "9336697d",
   "metadata": {},
   "outputs": [],
   "source": [
    "device = torch.device(\"cuda\" if torch.cuda.is_available() else \"cpu\")"
   ]
  },
  {
   "cell_type": "code",
   "execution_count": 3,
   "id": "d883b040",
   "metadata": {},
   "outputs": [],
   "source": [
    "transform = transforms.Compose([\n",
    "    transforms.Resize(256),\n",
    "    transforms.CenterCrop(224),\n",
    "    transforms.ToTensor(),\n",
    "    transforms.Normalize(mean=[0.485, 0.456, 0.406], std=[0.229, 0.224, 0.225]),\n",
    "])"
   ]
  },
  {
   "cell_type": "code",
   "execution_count": 4,
   "id": "dec2e5c7",
   "metadata": {},
   "outputs": [],
   "source": [
    "def load(path, transform=None):\n",
    "    dataset = ImageFolder(root=path,transform = transform)\n",
    "    \n",
    "    train_size = int(0.7 * len(dataset))\n",
    "    test_size = len(dataset) - train_size\n",
    "    \n",
    "    train_set, test_set = torch.utils.data.random_split(dataset, [train_size, test_size])\n",
    "    \n",
    "    train_loader = torch.utils.data.DataLoader(\n",
    "        train_set,\n",
    "        batch_size=50,\n",
    "        num_workers=0,\n",
    "        shuffle=False\n",
    "    )\n",
    "    \n",
    "    test_loader = torch.utils.data.DataLoader(\n",
    "        test_set,\n",
    "        batch_size=50,\n",
    "        num_workers=0,\n",
    "        shuffle=False\n",
    "    )\n",
    "\n",
    "    return train_loader, test_loader\n",
    "\n",
    "train_loader, test_loader = load('data/imagenet-mini/train/', transform)"
   ]
  },
  {
   "cell_type": "code",
   "execution_count": 5,
   "id": "9452d2d1",
   "metadata": {},
   "outputs": [],
   "source": [
    "model_path = 'models/model_MLP_scripted.pt'\n",
    "model = torch.jit.load(model_path, map_location=device).to(device)"
   ]
  },
  {
   "cell_type": "code",
   "execution_count": 6,
   "id": "8c0e1024",
   "metadata": {},
   "outputs": [],
   "source": [
    "criterion = nn.CrossEntropyLoss()\n",
    "optimizer = optim.SGD(model.parameters(), lr=0.01, momentum=0.9, weight_decay=0.0001)\n",
    "scheduler = optim.lr_scheduler.StepLR(optimizer, step_size=30, gamma=0.1)"
   ]
  },
  {
   "cell_type": "code",
   "execution_count": 7,
   "id": "9017d64a",
   "metadata": {},
   "outputs": [],
   "source": [
    "num_epochs = 5"
   ]
  },
  {
   "cell_type": "code",
   "execution_count": 8,
   "id": "1dbdb388",
   "metadata": {},
   "outputs": [],
   "source": [
    "log_df = pd.DataFrame(columns=['epoch', 'accuracy', 'val_loss'])"
   ]
  },
  {
   "cell_type": "code",
   "execution_count": 9,
   "id": "6fe5b671",
   "metadata": {},
   "outputs": [
    {
     "name": "stderr",
     "output_type": "stream",
     "text": [
      "Total Training Progress:   0%|          | 0/5 [00:00<?, ?it/s]\n",
      "Epoch 1/5:   0%|          | 0/487 [00:00<?, ?it/s]\u001b[A\n",
      "Epoch 1/5:   0%|          | 1/487 [00:14<1:54:18, 14.11s/it]\u001b[A\n",
      "Epoch 1/5:   0%|          | 2/487 [00:27<1:51:03, 13.74s/it]\u001b[A\n",
      "Epoch 1/5:   1%|          | 3/487 [00:40<1:47:59, 13.39s/it]\u001b[A\n",
      "Epoch 1/5:   1%|          | 4/487 [00:53<1:46:38, 13.25s/it]\u001b[A\n",
      "Epoch 1/5:   1%|          | 5/487 [01:06<1:45:47, 13.17s/it]\u001b[A\n",
      "Epoch 1/5:   1%|          | 6/487 [01:19<1:45:15, 13.13s/it]\u001b[A\n",
      "Epoch 1/5:   1%|▏         | 7/487 [01:32<1:44:48, 13.10s/it]\u001b[A\n",
      "Epoch 1/5:   2%|▏         | 8/487 [01:45<1:44:32, 13.09s/it]\u001b[A\n",
      "Epoch 1/5:   2%|▏         | 9/487 [01:58<1:44:13, 13.08s/it]\u001b[A\n",
      "Epoch 1/5:   2%|▏         | 10/487 [02:11<1:43:57, 13.08s/it]\u001b[A\n",
      "Epoch 1/5:   2%|▏         | 11/487 [02:25<1:43:55, 13.10s/it]\u001b[A\n",
      "Epoch 1/5:   2%|▏         | 12/487 [02:38<1:43:36, 13.09s/it]\u001b[A\n",
      "Epoch 1/5:   3%|▎         | 13/487 [02:51<1:43:08, 13.06s/it]\u001b[A\n",
      "Epoch 1/5:   3%|▎         | 14/487 [03:04<1:43:02, 13.07s/it]\u001b[A\n",
      "Epoch 1/5:   3%|▎         | 15/487 [03:17<1:43:21, 13.14s/it]\u001b[A\n",
      "Epoch 1/5:   3%|▎         | 16/487 [03:31<1:44:28, 13.31s/it]\u001b[A\n",
      "Epoch 1/5:   3%|▎         | 17/487 [03:44<1:43:48, 13.25s/it]\u001b[A\n",
      "Epoch 1/5:   4%|▎         | 18/487 [03:57<1:44:22, 13.35s/it]\u001b[A\n",
      "Epoch 1/5:   4%|▍         | 19/487 [04:12<1:47:37, 13.80s/it]\u001b[A\n",
      "Epoch 1/5:   4%|▍         | 20/487 [04:26<1:46:28, 13.68s/it]\u001b[A\n",
      "Epoch 1/5:   4%|▍         | 21/487 [04:40<1:46:44, 13.74s/it]\u001b[A\n",
      "Epoch 1/5:   5%|▍         | 22/487 [04:53<1:45:02, 13.55s/it]\u001b[A\n",
      "Epoch 1/5:   5%|▍         | 23/487 [05:06<1:43:48, 13.42s/it]\u001b[A\n",
      "Epoch 1/5:   5%|▍         | 24/487 [05:19<1:42:26, 13.28s/it]\u001b[A\n",
      "Epoch 1/5:   5%|▌         | 25/487 [05:32<1:42:14, 13.28s/it]\u001b[A\n",
      "Epoch 1/5:   5%|▌         | 26/487 [05:45<1:41:18, 13.19s/it]\u001b[A\n",
      "Epoch 1/5:   6%|▌         | 27/487 [05:58<1:40:23, 13.10s/it]\u001b[A\n",
      "Epoch 1/5:   6%|▌         | 28/487 [06:11<1:39:46, 13.04s/it]\u001b[A\n",
      "Epoch 1/5:   6%|▌         | 29/487 [06:24<1:38:59, 12.97s/it]\u001b[A\n",
      "Epoch 1/5:   6%|▌         | 30/487 [06:36<1:38:39, 12.95s/it]\u001b[A\n",
      "Epoch 1/5:   6%|▋         | 31/487 [06:50<1:38:58, 13.02s/it]\u001b[A\n",
      "Epoch 1/5:   7%|▋         | 32/487 [07:03<1:38:25, 12.98s/it]\u001b[A\n",
      "Epoch 1/5:   7%|▋         | 33/487 [07:17<1:41:05, 13.36s/it]\u001b[A\n",
      "Epoch 1/5:   7%|▋         | 34/487 [07:31<1:41:40, 13.47s/it]\u001b[A\n",
      "Epoch 1/5:   7%|▋         | 35/487 [07:44<1:41:27, 13.47s/it]\u001b[A\n",
      "Epoch 1/5:   7%|▋         | 36/487 [07:57<1:41:17, 13.48s/it]\u001b[A\n",
      "Epoch 1/5:   8%|▊         | 37/487 [08:11<1:41:21, 13.51s/it]\u001b[A\n",
      "Epoch 1/5:   8%|▊         | 38/487 [08:26<1:43:45, 13.87s/it]\u001b[A\n",
      "Epoch 1/5:   8%|▊         | 39/487 [08:40<1:44:00, 13.93s/it]\u001b[A\n",
      "Epoch 1/5:   8%|▊         | 40/487 [08:54<1:43:38, 13.91s/it]\u001b[A\n",
      "Epoch 1/5:   8%|▊         | 41/487 [09:07<1:42:34, 13.80s/it]\u001b[A\n",
      "Epoch 1/5:   9%|▊         | 42/487 [09:21<1:41:49, 13.73s/it]\u001b[A\n",
      "Epoch 1/5:   9%|▉         | 43/487 [09:35<1:42:16, 13.82s/it]\u001b[A\n",
      "Epoch 1/5:   9%|▉         | 44/487 [09:48<1:41:04, 13.69s/it]\u001b[A\n",
      "Epoch 1/5:   9%|▉         | 45/487 [10:02<1:41:35, 13.79s/it]\u001b[A\n",
      "Epoch 1/5:   9%|▉         | 46/487 [10:16<1:40:09, 13.63s/it]\u001b[A\n",
      "Epoch 1/5:  10%|▉         | 47/487 [10:29<1:40:07, 13.65s/it]\u001b[A\n",
      "Epoch 1/5:  10%|▉         | 48/487 [10:43<1:39:15, 13.57s/it]\u001b[A\n",
      "Epoch 1/5:  10%|█         | 49/487 [10:56<1:39:40, 13.65s/it]\u001b[A\n",
      "Epoch 1/5:  10%|█         | 50/487 [11:10<1:40:02, 13.74s/it]\u001b[A\n",
      "Epoch 1/5:  10%|█         | 51/487 [11:24<1:38:37, 13.57s/it]\u001b[A\n",
      "Epoch 1/5:  11%|█         | 52/487 [11:37<1:37:29, 13.45s/it]\u001b[A\n",
      "Epoch 1/5:  11%|█         | 53/487 [11:50<1:36:29, 13.34s/it]\u001b[A\n",
      "Epoch 1/5:  11%|█         | 54/487 [12:03<1:36:19, 13.35s/it]\u001b[A\n",
      "Epoch 1/5:  11%|█▏        | 55/487 [12:17<1:36:41, 13.43s/it]\u001b[A\n",
      "Epoch 1/5:  11%|█▏        | 56/487 [12:30<1:36:48, 13.48s/it]\u001b[A\n",
      "Epoch 1/5:  12%|█▏        | 57/487 [12:44<1:36:34, 13.47s/it]\u001b[A\n",
      "Total Training Progress:   0%|          | 0/5 [12:58<?, ?it/s][A\n"
     ]
    },
    {
     "ename": "KeyboardInterrupt",
     "evalue": "",
     "output_type": "error",
     "traceback": [
      "\u001b[0;31m---------------------------------------------------------------------------\u001b[0m",
      "\u001b[0;31mKeyboardInterrupt\u001b[0m                         Traceback (most recent call last)",
      "\u001b[0;32m<ipython-input-9-11b45b4344e1>\u001b[0m in \u001b[0;36m<module>\u001b[0;34m\u001b[0m\n\u001b[1;32m      9\u001b[0m \u001b[0;34m\u001b[0m\u001b[0m\n\u001b[1;32m     10\u001b[0m         \u001b[0moptimizer\u001b[0m\u001b[0;34m.\u001b[0m\u001b[0mzero_grad\u001b[0m\u001b[0;34m(\u001b[0m\u001b[0;34m)\u001b[0m\u001b[0;34m\u001b[0m\u001b[0;34m\u001b[0m\u001b[0m\n\u001b[0;32m---> 11\u001b[0;31m         \u001b[0mloss\u001b[0m\u001b[0;34m.\u001b[0m\u001b[0mbackward\u001b[0m\u001b[0;34m(\u001b[0m\u001b[0;34m)\u001b[0m\u001b[0;34m\u001b[0m\u001b[0;34m\u001b[0m\u001b[0m\n\u001b[0m\u001b[1;32m     12\u001b[0m         \u001b[0moptimizer\u001b[0m\u001b[0;34m.\u001b[0m\u001b[0mstep\u001b[0m\u001b[0;34m(\u001b[0m\u001b[0;34m)\u001b[0m\u001b[0;34m\u001b[0m\u001b[0;34m\u001b[0m\u001b[0m\n\u001b[1;32m     13\u001b[0m \u001b[0;34m\u001b[0m\u001b[0m\n",
      "\u001b[0;32m/opt/anaconda3/lib/python3.7/site-packages/torch/_tensor.py\u001b[0m in \u001b[0;36mbackward\u001b[0;34m(self, gradient, retain_graph, create_graph, inputs)\u001b[0m\n\u001b[1;32m    486\u001b[0m             )\n\u001b[1;32m    487\u001b[0m         torch.autograd.backward(\n\u001b[0;32m--> 488\u001b[0;31m             \u001b[0mself\u001b[0m\u001b[0;34m,\u001b[0m \u001b[0mgradient\u001b[0m\u001b[0;34m,\u001b[0m \u001b[0mretain_graph\u001b[0m\u001b[0;34m,\u001b[0m \u001b[0mcreate_graph\u001b[0m\u001b[0;34m,\u001b[0m \u001b[0minputs\u001b[0m\u001b[0;34m=\u001b[0m\u001b[0minputs\u001b[0m\u001b[0;34m\u001b[0m\u001b[0;34m\u001b[0m\u001b[0m\n\u001b[0m\u001b[1;32m    489\u001b[0m         )\n\u001b[1;32m    490\u001b[0m \u001b[0;34m\u001b[0m\u001b[0m\n",
      "\u001b[0;32m/opt/anaconda3/lib/python3.7/site-packages/torch/autograd/__init__.py\u001b[0m in \u001b[0;36mbackward\u001b[0;34m(tensors, grad_tensors, retain_graph, create_graph, grad_variables, inputs)\u001b[0m\n\u001b[1;32m    197\u001b[0m     Variable._execution_engine.run_backward(  # Calls into the C++ engine to run the backward pass\n\u001b[1;32m    198\u001b[0m         \u001b[0mtensors\u001b[0m\u001b[0;34m,\u001b[0m \u001b[0mgrad_tensors_\u001b[0m\u001b[0;34m,\u001b[0m \u001b[0mretain_graph\u001b[0m\u001b[0;34m,\u001b[0m \u001b[0mcreate_graph\u001b[0m\u001b[0;34m,\u001b[0m \u001b[0minputs\u001b[0m\u001b[0;34m,\u001b[0m\u001b[0;34m\u001b[0m\u001b[0;34m\u001b[0m\u001b[0m\n\u001b[0;32m--> 199\u001b[0;31m         allow_unreachable=True, accumulate_grad=True)  # Calls into the C++ engine to run the backward pass\n\u001b[0m\u001b[1;32m    200\u001b[0m \u001b[0;34m\u001b[0m\u001b[0m\n\u001b[1;32m    201\u001b[0m def grad(\n",
      "\u001b[0;31mKeyboardInterrupt\u001b[0m: "
     ]
    }
   ],
   "source": [
    "for epoch in tqdm(range(num_epochs), desc=\"Total Training Progress\"):\n",
    "    model.train()\n",
    "    \n",
    "    for images, labels in tqdm(train_loader, desc=f\"Epoch {epoch+1}/{num_epochs}\", leave=False):\n",
    "        images, labels = images.to(device), labels.to(device)\n",
    "        \n",
    "        outputs = model(images)\n",
    "        loss = criterion(outputs, labels)\n",
    "        \n",
    "        optimizer.zero_grad()\n",
    "        loss.backward()\n",
    "        optimizer.step()\n",
    "\n",
    "    scheduler.step()\n",
    "\n",
    "    model.eval()\n",
    "    val_loss = 0\n",
    "    correct = 0\n",
    "    total = 0\n",
    "\n",
    "    with torch.no_grad():\n",
    "        for images, labels in val_loader:\n",
    "            images, labels = images.to(device), labels.to(device)\n",
    "            \n",
    "            outputs = model(images)\n",
    "            loss = criterion(outputs, labels)\n",
    "            \n",
    "            val_loss += loss.item()\n",
    "            _, predicted = outputs.max(1)\n",
    "            total += labels.size(0)\n",
    "            correct += predicted.eq(labels).sum().item()\n",
    "            \n",
    "    accuracy = 100 * correct / total\n",
    "    print(f'Epoch {epoch+1}/{num_epochs}, Accuracy: {accuracy:.2f}%, Validation Loss: {val_loss/len(val_loader):.4f}')\n",
    "\n",
    "    log_df = log_df.append({'epoch': epoch+1, 'accuracy': accuracy, 'val_loss': val_loss/len(val_loader)}, ignore_index=True)\n",
    "\n",
    "log_df.to_csv('training_log.csv', index=False)\n",
    "\n",
    "\n",
    "scripted_trained_model = torch.jit.script(model)\n",
    "scripted_trained_model.save(\"trained_model_scripted_CNN.pt\")"
   ]
  },
  {
   "cell_type": "code",
   "execution_count": null,
   "id": "73852ed7",
   "metadata": {},
   "outputs": [],
   "source": []
  }
 ],
 "metadata": {
  "kernelspec": {
   "display_name": "Python 3",
   "language": "python",
   "name": "python3"
  },
  "language_info": {
   "codemirror_mode": {
    "name": "ipython",
    "version": 3
   },
   "file_extension": ".py",
   "mimetype": "text/x-python",
   "name": "python",
   "nbconvert_exporter": "python",
   "pygments_lexer": "ipython3",
   "version": "3.7.6"
  }
 },
 "nbformat": 4,
 "nbformat_minor": 5
}
