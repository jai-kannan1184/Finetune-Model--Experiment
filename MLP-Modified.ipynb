{
 "cells": [
  {
   "cell_type": "code",
   "execution_count": 2,
   "id": "620f85af",
   "metadata": {},
   "outputs": [],
   "source": [
    "import torch.nn as nn"
   ]
  },
  {
   "cell_type": "code",
   "execution_count": 3,
   "id": "6abec1a6",
   "metadata": {},
   "outputs": [],
   "source": [
    "class ModifiedMLP(nn.Module):\n",
    "    def __init__(self, num_classes=1000):  \n",
    "        super(ModifiedMLP, self).__init__()\n",
    "        \n",
    "        self.fc1 = nn.Linear(224*224*3, 2048)\n",
    "        self.fc2 = nn.Linear(2048, 4096)\n",
    "        self.fc3 = nn.Linear(4096, 2048)\n",
    "        self.fc4 = nn.Linear(2048, num_classes)\n",
    "        \n",
    "        self.leaky_relu = nn.LeakyReLU(0.01)  # Use LeakyReLU instead of ReLU\n",
    "        self.dropout1 = nn.Dropout(0.4)  # Different dropout rate\n",
    "        self.dropout2 = nn.Dropout(0.6)\n",
    "        \n",
    "        self.batch_norm1 = nn.BatchNorm1d(2048)\n",
    "        self.batch_norm2 = nn.BatchNorm1d(4096)\n",
    "        self.batch_norm3 = nn.BatchNorm1d(2048)\n",
    "\n",
    "    def forward(self, x):\n",
    "        x = x.view(x.size(0), -1)\n",
    "        \n",
    "        x = self.leaky_relu(self.batch_norm1(self.fc1(x)))\n",
    "        x = self.dropout1(x)\n",
    "        \n",
    "        x = self.leaky_relu(self.batch_norm2(self.fc2(x)))\n",
    "        x = self.dropout2(x)\n",
    "        \n",
    "        x = self.leaky_relu(self.batch_norm3(self.fc3(x)))\n",
    "        x = self.dropout1(x)\n",
    "        \n",
    "        x = self.fc4(x)\n",
    "        return x"
   ]
  },
  {
   "cell_type": "code",
   "execution_count": 4,
   "id": "944b9325",
   "metadata": {},
   "outputs": [
    {
     "name": "stdout",
     "output_type": "stream",
     "text": [
      "ModifiedMLP(\n",
      "  (fc1): Linear(in_features=150528, out_features=2048, bias=True)\n",
      "  (fc2): Linear(in_features=2048, out_features=4096, bias=True)\n",
      "  (fc3): Linear(in_features=4096, out_features=2048, bias=True)\n",
      "  (fc4): Linear(in_features=2048, out_features=1000, bias=True)\n",
      "  (leaky_relu): LeakyReLU(negative_slope=0.01)\n",
      "  (dropout1): Dropout(p=0.4, inplace=False)\n",
      "  (dropout2): Dropout(p=0.6, inplace=False)\n",
      "  (batch_norm1): BatchNorm1d(2048, eps=1e-05, momentum=0.1, affine=True, track_running_stats=True)\n",
      "  (batch_norm2): BatchNorm1d(4096, eps=1e-05, momentum=0.1, affine=True, track_running_stats=True)\n",
      "  (batch_norm3): BatchNorm1d(2048, eps=1e-05, momentum=0.1, affine=True, track_running_stats=True)\n",
      ")\n"
     ]
    }
   ],
   "source": [
    "model= ModifiedMLP()\n",
    "print(model)"
   ]
  },
  {
   "cell_type": "code",
   "execution_count": null,
   "id": "6253cf42",
   "metadata": {},
   "outputs": [],
   "source": []
  }
 ],
 "metadata": {
  "kernelspec": {
   "display_name": "Python 3",
   "language": "python",
   "name": "python3"
  },
  "language_info": {
   "codemirror_mode": {
    "name": "ipython",
    "version": 3
   },
   "file_extension": ".py",
   "mimetype": "text/x-python",
   "name": "python",
   "nbconvert_exporter": "python",
   "pygments_lexer": "ipython3",
   "version": "3.7.6"
  }
 },
 "nbformat": 4,
 "nbformat_minor": 5
}
